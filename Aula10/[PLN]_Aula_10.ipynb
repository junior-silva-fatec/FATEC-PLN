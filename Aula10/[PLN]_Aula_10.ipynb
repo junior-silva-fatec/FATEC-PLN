{
  "nbformat": 4,
  "nbformat_minor": 0,
  "metadata": {
    "colab": {
      "provenance": []
    },
    "kernelspec": {
      "name": "python3",
      "display_name": "Python 3"
    },
    "language_info": {
      "name": "python"
    }
  },
  "cells": [
    {
      "cell_type": "code",
      "execution_count": null,
      "metadata": {
        "id": "I8x5mYCKyJ1e"
      },
      "outputs": [],
      "source": []
    },
    {
      "cell_type": "markdown",
      "source": [
        "# **Aula 10** - Análise de Sentimentos e Classificação de Textos em PLN\n",
        "## Objetivos: ##\n",
        "- Identificar diversas aplicações práticas da Análise de Sentimentos em diferentes domínios.\n",
        "- Compreender o funcionamento básico do algoritmo Naive Bayes para classificação de textos e análise de sentimentos.\n",
        "- Compreender o funcionamento básico do algoritmo de Árvores de Decisão para classificação de textos.\n",
        "- Identificar diferentes abordagens para realizar análise de sentimentos.\n",
        "\n",
        "\n",
        "\n",
        "\n",
        "\n",
        "\n"
      ],
      "metadata": {
        "id": "NkQlPoJw0Roy"
      }
    },
    {
      "cell_type": "markdown",
      "source": [
        "### 1. Exemplos do roteiro ###\n",
        "#### Exemplo 1 - Análise de sentimentos com a biblioteca NLTK ####"
      ],
      "metadata": {
        "id": "7H1vLvSHpTRE"
      }
    },
    {
      "cell_type": "markdown",
      "source": [
        "Desenvolvendo de um sistema para classificar automaticamente o sentimento de avaliações de filmes como \"positivo\" ou \"negativo\". Para isso é necessário ter um conjunto de dados com as avaliações rotuladas.\n",
        "- Primeira etapa – Importação das bibliotecas e corpus para realizar a análise"
      ],
      "metadata": {
        "id": "V5HCpnqIpmmp"
      }
    },
    {
      "cell_type": "code",
      "source": [
        "# Importando as bibliotecas\n",
        "import nltk\n",
        "from nltk.sentiment.vader import SentimentIntensityAnalyzer\n",
        "\n",
        "# Certifique-se de baixar os recursos necessários do NLTK\n",
        "nltk.download ('vader_lexicon')\n",
        "nltk.download ('punkt')"
      ],
      "metadata": {
        "colab": {
          "base_uri": "https://localhost:8080/"
        },
        "id": "3Fv64b4SpzUs",
        "outputId": "1db0779c-961d-4e36-cdb4-6f84f81971d4"
      },
      "execution_count": null,
      "outputs": [
        {
          "output_type": "stream",
          "name": "stderr",
          "text": [
            "[nltk_data] Downloading package vader_lexicon to /root/nltk_data...\n",
            "[nltk_data] Downloading package punkt to /root/nltk_data...\n",
            "[nltk_data]   Unzipping tokenizers/punkt.zip.\n"
          ]
        },
        {
          "output_type": "execute_result",
          "data": {
            "text/plain": [
              "True"
            ]
          },
          "metadata": {},
          "execution_count": 1
        }
      ]
    },
    {
      "cell_type": "markdown",
      "source": [
        "- Segunda etapa - Inicialização do objeto que realiza a análise e o texto a ser analisado"
      ],
      "metadata": {
        "id": "ehyHunhpq38r"
      }
    },
    {
      "cell_type": "code",
      "source": [
        "# Inicializando o analisador de sentimentos\n",
        "sid = SentimentIntensityAnalyzer()\n",
        "# Definindo os textos de exemplo para treinar o modelo\n",
        "textos = [\n",
        "\"Este filme é incrívell Eu adorei cada minuto.\",\n",
        "\"Odiei este filme. Foi uma perda de tempo.\",\n",
        "\"O filme foi ok, nada de especial.\",\n",
        "\"Estou muito feliz com o produto, funciona perfeitamentel\",\n",
        "\"Que serviço horrível! Nunca mais compro nessa loja.\"\n",
        "]"
      ],
      "metadata": {
        "id": "3b8f-nD3rQet"
      },
      "execution_count": null,
      "outputs": []
    },
    {
      "cell_type": "markdown",
      "source": [
        "- Terceira etapa - Analisando os sentimentos dos textos fornecidos"
      ],
      "metadata": {
        "id": "rag7rnJcraF6"
      }
    },
    {
      "cell_type": "code",
      "source": [
        "# Analisando os sentimentos dos textos\n",
        "for texto in textos:\n",
        "  print(f\"Texto: {texto}\")\n",
        "  ss = sid.polarity_scores(texto)\n",
        "  print(f\"Pontuação: {ss}\")\n",
        "  if ss[ 'compound'] >= 0.05:\n",
        "    print (\"Sentimento: Positivo\")\n",
        "  elif ss[ 'compound'] <= -0.05:\n",
        "    print(\"Sentimento: Negativo\")\n",
        "  else:\n",
        "    print (\"Sentimento: Neutro\")\n",
        "  print(\"\\n\")"
      ],
      "metadata": {
        "colab": {
          "base_uri": "https://localhost:8080/"
        },
        "id": "4D4hp8W-rkZB",
        "outputId": "96fd04b8-60b5-4169-fb16-cf214a1491bb"
      },
      "execution_count": null,
      "outputs": [
        {
          "output_type": "stream",
          "name": "stdout",
          "text": [
            "Texto: Este filme é incrívell Eu adorei cada minuto.\n",
            "Pontuação: {'neg': 0.0, 'neu': 1.0, 'pos': 0.0, 'compound': 0.0}\n",
            "Sentimento: Neutro\n",
            "\n",
            "\n",
            "Texto: Odiei este filme. Foi uma perda de tempo.\n",
            "Pontuação: {'neg': 0.0, 'neu': 1.0, 'pos': 0.0, 'compound': 0.0}\n",
            "Sentimento: Neutro\n",
            "\n",
            "\n",
            "Texto: O filme foi ok, nada de especial.\n",
            "Pontuação: {'neg': 0.0, 'neu': 0.694, 'pos': 0.306, 'compound': 0.296}\n",
            "Sentimento: Positivo\n",
            "\n",
            "\n",
            "Texto: Estou muito feliz com o produto, funciona perfeitamentel\n",
            "Pontuação: {'neg': 0.0, 'neu': 1.0, 'pos': 0.0, 'compound': 0.0}\n",
            "Sentimento: Neutro\n",
            "\n",
            "\n",
            "Texto: Que serviço horrível! Nunca mais compro nessa loja.\n",
            "Pontuação: {'neg': 0.0, 'neu': 1.0, 'pos': 0.0, 'compound': 0.0}\n",
            "Sentimento: Neutro\n",
            "\n",
            "\n"
          ]
        }
      ]
    },
    {
      "cell_type": "markdown",
      "source": [
        "#### Exemplo 2 - Análise de sentimentos de Avaliações de Filmes com Naives Bayes ####\n"
      ],
      "metadata": {
        "id": "ifJ5_i2RsZoC"
      }
    },
    {
      "cell_type": "markdown",
      "source": [
        "Primeira etapa: Criação de funções que calculam a quantidade de palavras, e as probabilidades"
      ],
      "metadata": {
        "id": "xNdrTjD-s38c"
      }
    },
    {
      "cell_type": "code",
      "source": [
        "import numpy as np\n",
        "\n",
        "def contar_palavras(avaliacoes, sentimento):\n",
        "  \"\"\"Conta a frequência de cada palavra em avaliações de um dado sentimento.\"\"\"\n",
        "  contagem = {}\n",
        "  for avaliacao, sent in avaliacoes:\n",
        "    if sent == sentimento:\n",
        "      for palavra in avaliacao.lower().split():\n",
        "        if palavra in contagem:\n",
        "          contagem[palavra] += 1\n",
        "        else:\n",
        "          contagem[palavra] = 1\n",
        "  return contagem\n",
        "\n",
        "def calcular_probabilidade_sentimento(avaliacoes, sentimento):\n",
        "  \"\"\"Calcula a probabilidade de uma avaliação ser de um dado sentimento.\"\"\"\n",
        "  total_avaliacoes = len(avaliacoes)\n",
        "  contagem_sentimento = sum(1 for _, sent in avaliacoes if sent == sentimento)\n",
        "  return contagem_sentimento / total_avaliacoes\n",
        "\n",
        "def calcular_probabilidade_palavra_dado_sentimento(palavra, contagem_palavras, total_palavras_sentimento, total_palavras_vocabulario, alpha=1):\n",
        "  \"\"\"Calcula a probabilidade de una palavra aparecer dado um sentimento (com suavização Laplace).\"\"\"\n",
        "  contagem_palavra = contagem_palavras.get(palavra, 0)\n",
        "  return (contagem_palavra + alpha) / (total_palavras_sentimento + alpha * total_palavras_vocabulario)"
      ],
      "metadata": {
        "id": "skOQS_kZtRgy"
      },
      "execution_count": null,
      "outputs": []
    },
    {
      "cell_type": "markdown",
      "source": [
        "Segunda etapa: Criação da função que calcula a classificação da palavra pertencer a um sentimento"
      ],
      "metadata": {
        "id": "BANYFG1f1Uda"
      }
    },
    {
      "cell_type": "code",
      "source": [
        "def classificar_avaliacao (avaliacao, avaliacoes):\n",
        "  \"\"\"Classifica o sentimento de uma nova avaliação usando Naive Bayes.\"\"\"\n",
        "  sentimentos = [\"Positivo\", \"Negativo\"]\n",
        "  probabilidades_sentimento = {}\n",
        "\n",
        "  # Calcular probabilidades dos sentimentos\n",
        "  probabilidades_sentimento [\"Positivo\"] = calcular_probabilidade_sentimento(avaliacoes, \"Positivo\")\n",
        "  probabilidades_sentimento [\"Negativo\"] = calcular_probabilidade_sentimento (avaliacoes, \"Negativo\")\n",
        "\n",
        "  # Contar palavras de cada sentimento\n",
        "  contagem_palavras_positivo = contar_palavras (avaliacoes,\"Positivo\")\n",
        "  contagem_palavras_negativo = contar_palavras (avaliacoes, \"Negativo\")\n",
        "\n",
        "  # Calcular total de palavras em cada sentimento\n",
        "  total_palavras_positivo = sum (contagem_palavras_positivo.values())\n",
        "  total_palavras_negativo = sum(contagem_palavras_negativo.values ())\n",
        "\n",
        "  # Calcular tamanho do vocabulário\n",
        "  vocabulario = set()\n",
        "  for avaliaçao, _ in avaliacoes:\n",
        "    for palavra in avaliacao.lower().split():\n",
        "      vocabulario.add (palavra)\n",
        "  total_palavras_vocabulario = len(vocabulario)\n",
        "\n",
        "  # Calcular probabilidades para cada sentimento\n",
        "  for sentimento in sentimentos:\n",
        "    probabilidade_total = probabilidades_sentimento [sentimento]\n",
        "    contagem_palavras_sentimento = contagem_palavras_positivo if sentimento == \"Positivo\" else contagem_palavras_negativo\n",
        "    total_palavras_sentimento = total_palavras_positivo if sentimento == \"Positivo\" else total_palavras_negativo\n",
        "\n",
        "    for palavra in avaliacao.lower().split():\n",
        "      probabilidade_palavra = calcular_probabilidade_palavra_dado_sentimento(\n",
        "        palavra, contagem_palavras_sentimento, total_palavras_sentimento, total_palavras_vocabulario\n",
        "      )\n",
        "      probabilidade_total *= probabilidade_palavra\n",
        "    probabilidades_sentimento [sentimento] = probabilidade_total\n",
        "\n",
        "  # Classificar com base na maior probabilidade\n",
        "  melhor_sentimento = max(probabilidades_sentimento, key=probabilidades_sentimento.get)\n",
        "  return melhor_sentimento"
      ],
      "metadata": {
        "id": "bRL41NtE1bRp"
      },
      "execution_count": 35,
      "outputs": []
    },
    {
      "cell_type": "markdown",
      "source": [
        "Terceira Etapa – Fornecimento de um modelo para treinamento"
      ],
      "metadata": {
        "id": "kY52J-GJ5ujd"
      }
    },
    {
      "cell_type": "code",
      "source": [
        "avaliacoes = [\n",
        "    (\"Filme incrível! Adorei a atuação.\", \"Positivo\"),\n",
        "    (\"Roteiro fraco, não recomendo.\", \"Negativo\"),\n",
        "    (\"Atuação boa, mas filme longo.\", \"Positivo\"),\n",
        "    (\"Péssimo! Perdi meu tempo.\", \"Negativo\"),\n",
        "]"
      ],
      "metadata": {
        "id": "MYwPzzr-6Ev8"
      },
      "execution_count": 36,
      "outputs": []
    },
    {
      "cell_type": "markdown",
      "source": [
        "Quarta etapa  - Fornecendo um frase para ser avaliada"
      ],
      "metadata": {
        "id": "g48not_N6Ug2"
      }
    },
    {
      "cell_type": "code",
      "source": [
        "# Nova avaliação a ser classificada\n",
        "nova_avaliacao = input(\"O que você achou do filme 101 Dalmatas? \")\n",
        "\n",
        "# Classificar a nova avaliação\n",
        "sentimento = classificar_avaliacao (nova_avaliacao, avaliacoes)\n",
        "print(f\"A avaliação '{nova_avaliacao}' foi classificada como: {sentimento}\")"
      ],
      "metadata": {
        "id": "C79DyCAy6W6j",
        "colab": {
          "base_uri": "https://localhost:8080/"
        },
        "outputId": "fa59b644-dd74-489b-c8f7-9b413c50a143"
      },
      "execution_count": 37,
      "outputs": [
        {
          "output_type": "stream",
          "name": "stdout",
          "text": [
            "O que você achou do filme 101 Dalmatas? Ruim\n",
            "A avaliação 'Ruim' foi classificada como: Negativo\n"
          ]
        }
      ]
    },
    {
      "cell_type": "code",
      "source": [
        "avaliacoes = [\n",
        "  (\"Filme incrível! Adorei a atuação, roteiro e direção.\", \"Positivo\"),\n",
        "  (\"Roteiro fraco, atuação ruim, não recomendo. Perda de tempo.\", \"Negativo\"),\n",
        "  (\"Atuação boa, mas filme um pouco longo e arrastado.\", \"Positivo\"),\n",
        "  (\"Péssimo! Perdi meu tempo, dinheiro e paciência. Horrível.\", \"Negativo\"),\n",
        "  (\"Amei! Elenco maravilhoso, fotografia impecável. Recomendo muito!\", \"Positivo\"),\n",
        "  (\"Chato, previsível e sem graça. Saí no meio do filme.\", \"Negativo\"),\n",
        "  (\"Uma obra-prima! Roteiro inteligente, atuações memoráveis.\", \"Positivo\"),\n",
        "  (\"Cansativo, atuações forçadas, final decepcionante.\", \"Negativo\"),\n",
        "  (\"Divertido e emocionante! Ótimo para assistir com a família.\", \"Positivo\"),\n",
        "  (\"Clichê, sem originalidade, diálogos fracos. Não vale a pena.\", \"Negativo\"),\n",
        "  (\"Surpreendente e envolvente! Me prendeu do início ao fim.\", \"Positivo\"),\n",
        "  (\"Confuso, mal dirigido, edição amadora. Um desastre.\", \"Negativo\"),\n",
        "  (\"Atuação excelente, história cativante, trilha sonora perfeita.\", \"Positivo\"),\n",
        "  (\"Atuações medianas, história arrastada, trilha sonora irritante.\", \"Negativo\"),\n",
        "  (\"Roteiro bem construído, diálogos afiados, direção impecável.\", \"Positivo\"),\n",
        "  (\"Roteiro fraco, diálogos bobos, direção perdida.\", \"Negativo\"),\n",
        "  (\"Uma experiência cinematográfica única! Recomendo a todos os amantes do cinema.\", \"Positivo\"),\n",
        "  (\"Um filme esquecível, sem emoção e sem impacto.\", \"Negativo\"),\n",
        "  (\"Comovente e inspirador! Me fez refletir sobre a vida.\", \"Positivo\"),\n",
        "  (\"Decepcionante e frustrante! Não recomendo nem para passar o tempo.\", \"Negativo\"),\n",
        "  (\"Ótimo, gostei muito\",'Positivo')\n",
        "]"
      ],
      "metadata": {
        "id": "B_v0azkjPRdN"
      },
      "execution_count": 38,
      "outputs": []
    },
    {
      "cell_type": "markdown",
      "source": [
        "Nova Avaliação"
      ],
      "metadata": {
        "id": "d25E0gqvQX4S"
      }
    },
    {
      "cell_type": "code",
      "source": [
        "# Nova avaliação a ser classificada\n",
        "nova_avaliacao = input(\"O que você achou do filme 101 Dalmatas? \")\n",
        "\n",
        "# Classificar a nova avaliação\n",
        "sentimento = classificar_avaliacao (nova_avaliacao, avaliacoes)\n",
        "print(f\"A avaliação '{nova_avaliacao}' foi classificada como: {sentimento}\")"
      ],
      "metadata": {
        "colab": {
          "base_uri": "https://localhost:8080/"
        },
        "id": "Co58pv98QWra",
        "outputId": "f49bb419-5d5e-4334-e501-ffa3d8f733f8"
      },
      "execution_count": 39,
      "outputs": [
        {
          "output_type": "stream",
          "name": "stdout",
          "text": [
            "O que você achou do filme 101 Dalmatas? Ruim\n",
            "A avaliação 'Ruim' foi classificada como: Positivo\n"
          ]
        }
      ]
    }
  ]
}